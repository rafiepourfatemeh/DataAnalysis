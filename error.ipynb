{
 "cells": [
  {
   "cell_type": "code",
   "execution_count": 1,
   "id": "8bc90716",
   "metadata": {},
   "outputs": [],
   "source": [
    "import pandas as pd\n",
    "import numpy as np\n"
   ]
  },
  {
   "cell_type": "code",
   "execution_count": 16,
   "id": "1f7d209e",
   "metadata": {},
   "outputs": [
    {
     "name": "stdout",
     "output_type": "stream",
     "text": [
      "Series in string\n",
      "0    mft\n",
      "1    1.0\n",
      "2      2\n",
      "3     -3\n",
      "dtype: object\n",
      "ignore\n",
      "0    mft\n",
      "1    1.0\n",
      "2      2\n",
      "3     -3\n",
      "dtype: object\n",
      "coerce\n",
      "0    NaN\n",
      "1    1.0\n",
      "2    2.0\n",
      "3   -3.0\n",
      "dtype: float64\n",
      "raise\n",
      "0    1.0\n",
      "1    2.0\n",
      "2   -3.0\n",
      "dtype: float64\n",
      "--\n"
     ]
    }
   ],
   "source": [
    "\n",
    "s = pd.Series(['mft','1.0', '2', -3])\n",
    "print(\"Series in string\")\n",
    "print(s)\n",
    "print(\"ignore\")\n",
    "print(pd.to_numeric(s,errors='ignore'))\n",
    "print('coerce')\n",
    "\n",
    "print(pd.to_numeric(s,errors='coerce'))\n",
    "print('raise')\n",
    "print(pd.to_numeric(pd.Series(['1.0', '2', -3]),errors='raise'))\n",
    "print('--')"
   ]
  },
  {
   "cell_type": "code",
   "execution_count": 3,
   "id": "21ad5cc8",
   "metadata": {},
   "outputs": [
    {
     "name": "stdout",
     "output_type": "stream",
     "text": [
      "Numeric Form using downcast = int\n",
      "0    1\n",
      "1    2\n",
      "2   -3\n",
      "dtype: int8\n",
      "\n",
      "\n"
     ]
    }
   ],
   "source": [
    "print(\"Numeric Form using downcast = int\")\n",
    "print(pd.to_numeric(s, downcast='integer'))\n",
    "print('\\n')\n",
    "\n"
   ]
  },
  {
   "cell_type": "code",
   "execution_count": 4,
   "id": "a0685098",
   "metadata": {},
   "outputs": [
    {
     "name": "stdout",
     "output_type": "stream",
     "text": [
      "Ignoring errors\n",
      "0    mft\n",
      "1    1.0\n",
      "2      2\n",
      "3     -3\n",
      "dtype: object\n",
      "\n",
      "\n"
     ]
    }
   ],
   "source": [
    "print(\"Ignoring errors\")\n",
    "s2 = pd.Series(['mft', '1.0', '2', -3])\n",
    "print(pd.to_numeric(s2, errors='ignore'))\n",
    "print('\\n')\n",
    "\n"
   ]
  },
  {
   "cell_type": "code",
   "execution_count": 5,
   "id": "4db8e969",
   "metadata": {},
   "outputs": [
    {
     "name": "stdout",
     "output_type": "stream",
     "text": [
      "Corerce errors\n",
      "0    NaN\n",
      "1    1.0\n",
      "2    2.0\n",
      "3   -3.0\n",
      "dtype: float64\n"
     ]
    }
   ],
   "source": [
    "print(\"Corerce errors\")\n",
    "s2 = pd.Series(['mft', '1.0', '2', -3])\n",
    "print(pd.to_numeric(s2, errors='coerce'))"
   ]
  },
  {
   "cell_type": "code",
   "execution_count": null,
   "id": "26378948",
   "metadata": {},
   "outputs": [],
   "source": []
  }
 ],
 "metadata": {
  "kernelspec": {
   "display_name": "Python 3 (ipykernel)",
   "language": "python",
   "name": "python3"
  },
  "language_info": {
   "codemirror_mode": {
    "name": "ipython",
    "version": 3
   },
   "file_extension": ".py",
   "mimetype": "text/x-python",
   "name": "python",
   "nbconvert_exporter": "python",
   "pygments_lexer": "ipython3",
   "version": "3.11.7"
  }
 },
 "nbformat": 4,
 "nbformat_minor": 5
}
