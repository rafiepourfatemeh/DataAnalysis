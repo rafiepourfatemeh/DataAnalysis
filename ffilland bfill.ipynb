{
 "cells": [
  {
   "cell_type": "code",
   "execution_count": 1,
   "id": "803d2753",
   "metadata": {},
   "outputs": [],
   "source": [
    "import pandas as pd\n",
    "import numpy as np\n",
    "\n"
   ]
  },
  {
   "cell_type": "code",
   "execution_count": 2,
   "id": "9c7b82d8",
   "metadata": {},
   "outputs": [
    {
     "name": "stdout",
     "output_type": "stream",
     "text": [
      "0      a\n",
      "1    NaN\n",
      "2    NaN\n",
      "3      b\n",
      "4      c\n",
      "5    NaN\n",
      "6      d\n",
      "7      e\n",
      "dtype: object\n",
      "Result:\n",
      "0    a\n",
      "1    a\n",
      "2    a\n",
      "3    b\n",
      "4    c\n",
      "5    c\n",
      "6    d\n",
      "7    e\n",
      "dtype: object\n"
     ]
    }
   ],
   "source": [
    "s = pd.Series([\"a\", np.nan, np.nan, \"b\", \"c\", np.nan, \"d\", \"e\"])\n",
    "print(s)\n",
    "\n",
    "result = s.ffill()\n",
    "print('Result:')\n",
    "print(result)"
   ]
  },
  {
   "cell_type": "code",
   "execution_count": 3,
   "id": "3d7ca6db",
   "metadata": {},
   "outputs": [
    {
     "name": "stdout",
     "output_type": "stream",
     "text": [
      "0      a\n",
      "1    NaN\n",
      "2    NaN\n",
      "3      b\n",
      "4      c\n",
      "5    NaN\n",
      "6      d\n",
      "7      e\n",
      "dtype: object\n",
      "Result:\n",
      "0    a\n",
      "1    b\n",
      "2    b\n",
      "3    b\n",
      "4    c\n",
      "5    d\n",
      "6    d\n",
      "7    e\n",
      "dtype: object\n"
     ]
    }
   ],
   "source": [
    "s = pd.Series([\"a\", np.nan, np.nan, \"b\", \"c\", np.nan, \"d\", \"e\"])\n",
    "print(s)\n",
    "\n",
    "result = s.bfill()\n",
    "print('Result:')\n",
    "print(result)"
   ]
  },
  {
   "cell_type": "code",
   "execution_count": null,
   "id": "34294f3e",
   "metadata": {},
   "outputs": [],
   "source": []
  }
 ],
 "metadata": {
  "kernelspec": {
   "display_name": "Python 3 (ipykernel)",
   "language": "python",
   "name": "python3"
  },
  "language_info": {
   "codemirror_mode": {
    "name": "ipython",
    "version": 3
   },
   "file_extension": ".py",
   "mimetype": "text/x-python",
   "name": "python",
   "nbconvert_exporter": "python",
   "pygments_lexer": "ipython3",
   "version": "3.11.7"
  }
 },
 "nbformat": 4,
 "nbformat_minor": 5
}
