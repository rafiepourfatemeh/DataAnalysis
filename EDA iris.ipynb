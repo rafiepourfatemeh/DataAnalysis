{
 "cells": [
  {
   "cell_type": "code",
   "execution_count": null,
   "id": "8309bf5d-f903-490c-aaf9-77fa0ef6cd7e",
   "metadata": {},
   "outputs": [],
   "source": [
    "import pandas as pd\n",
    "import seaborn as sns\n",
    "import matplotlib.pyplot as plt\n",
    "iris = sns.load_dataset('iris')\n",
    "print(iris.head())\n",
    "print(iris.info())\n",
    "print(iris.describe())\n",
    "print(iris.isnull().sum())\n",
    "iris.hist(figsize=(10, 8), bins=30)\n",
    "plt.tight_layout()\n",
    "plt.show()\n",
    "correlation = iris.corr()\n",
    "plt.figure(figsize=(8, 6))\n",
    "sns.heatmap(correlation, annot=True, cmap='coolwarm', fmt=\".2f\")\n",
    "plt.title('Correlation Matrix')\n",
    "plt.show()\n",
    "# بصری‌سازی روابط بین ویژگی‌ها\n",
    "sns.pairplot(iris, hue='species')\n",
    "plt.show()\n",
    "# پراکندگی دو ویژگی\n",
    "plt.figure(figsize=(10, 6))\n",
    "sns.scatterplot(x='sepal_length', y='sepal_width', hue='species', data=iris, palette='deep')\n",
    "plt.title('Sepal Length vs Sepal Width')\n",
    "plt.show()"
   ]
  }
 ],
 "metadata": {
  "kernelspec": {
   "display_name": "Python 3 (ipykernel)",
   "language": "python",
   "name": "python3"
  },
  "language_info": {
   "codemirror_mode": {
    "name": "ipython",
    "version": 3
   },
   "file_extension": ".py",
   "mimetype": "text/x-python",
   "name": "python",
   "nbconvert_exporter": "python",
   "pygments_lexer": "ipython3",
   "version": "3.11.7"
  }
 },
 "nbformat": 4,
 "nbformat_minor": 5
}
